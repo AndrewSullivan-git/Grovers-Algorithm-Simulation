{
 "cells": [
  {
   "cell_type": "markdown",
   "metadata": {},
   "source": [
    "# Grover's Algorithm Simulation for DNA Pattern Matching\n",
    "**Author**: Andrew Sullivan  \n",
    "**Course**: CNT 4504  \n",
    "**Instructor**: Professor Kelly  \n",
    "**Date**: April 5, 2024\n",
    "\n",
    "This project is a small simulation that supports the essay titled:  \n",
    "**\"Hybrid Quantum Encoding: Combining Amplitude and Basis Encoding for Enhanced Data Storage and Processing in Quantum Computing\"**\n",
    "\n",
    "It demonstrates the use of **Grover's Algorithm** to search for a DNA base (encoded in binary) using **basis encoding** and **Qiskit**, IBM's quantum SDK."
   ]
  },
  {
   "cell_type": "code",
   "execution_count": 1,
   "metadata": {},
   "outputs": [
    {
     "ename": "ModuleNotFoundError",
     "evalue": "No module named 'qiskit'",
     "output_type": "error",
     "traceback": [
      "\u001b[1;31m---------------------------------------------------------------------------\u001b[0m",
      "\u001b[1;31mModuleNotFoundError\u001b[0m                       Traceback (most recent call last)",
      "Cell \u001b[1;32mIn[1], line 4\u001b[0m\n\u001b[0;32m      1\u001b[0m \u001b[38;5;66;03m# Uncomment the next line if running for the first time\u001b[39;00m\n\u001b[0;32m      2\u001b[0m \u001b[38;5;66;03m# !pip install qiskit\u001b[39;00m\n\u001b[1;32m----> 4\u001b[0m \u001b[38;5;28;01mfrom\u001b[39;00m\u001b[38;5;250m \u001b[39m\u001b[38;5;21;01mqiskit\u001b[39;00m\u001b[38;5;250m \u001b[39m\u001b[38;5;28;01mimport\u001b[39;00m Aer\n\u001b[0;32m      5\u001b[0m \u001b[38;5;28;01mfrom\u001b[39;00m\u001b[38;5;250m \u001b[39m\u001b[38;5;21;01mqiskit\u001b[39;00m\u001b[38;5;21;01m.\u001b[39;00m\u001b[38;5;21;01malgorithms\u001b[39;00m\u001b[38;5;250m \u001b[39m\u001b[38;5;28;01mimport\u001b[39;00m Grover, AmplificationProblem\n\u001b[0;32m      6\u001b[0m \u001b[38;5;28;01mfrom\u001b[39;00m\u001b[38;5;250m \u001b[39m\u001b[38;5;21;01mqiskit\u001b[39;00m\u001b[38;5;21;01m.\u001b[39;00m\u001b[38;5;21;01mcircuit\u001b[39;00m\u001b[38;5;21;01m.\u001b[39;00m\u001b[38;5;21;01mlibrary\u001b[39;00m\u001b[38;5;250m \u001b[39m\u001b[38;5;28;01mimport\u001b[39;00m PhaseOracle\n",
      "\u001b[1;31mModuleNotFoundError\u001b[0m: No module named 'qiskit'"
     ]
    }
   ],
   "source": [
    "# Uncomment the next line if running for the first time\n",
    "# !pip install qiskit\n",
    "\n",
    "from qiskit import Aer\n",
    "from qiskit.algorithms import Grover, AmplificationProblem\n",
    "from qiskit.circuit.library import PhaseOracle\n",
    "from qiskit.visualization import plot_histogram\n",
    "import matplotlib.pyplot as plt"
   ]
  },
  {
   "cell_type": "markdown",
   "metadata": {},
   "source": [
    "## DNA to Binary Encoding\n",
    "\n",
    "In this simplified example, DNA bases are encoded into 2-bit binary numbers:\n",
    "\n",
    "| Base | Binary |\n",
    "|------|--------|\n",
    "| A    | 00     |\n",
    "| G    | 01     |\n",
    "| C    | 10     |\n",
    "| T    | 11     |\n",
    "\n",
    "We simulate searching for the base \"C\", which corresponds to binary `10`."
   ]
  },
  {
   "cell_type": "code",
   "execution_count": null,
   "metadata": {},
   "outputs": [],
   "source": [
    "# STEP 1: Define the oracle using Boolean logic\n",
    "# We want to mark the state |10⟩, which is True when a=1 and b=0\n",
    "oracle_expression = '(a & ~b)'  # a=True, b=False => 10 in binary\n",
    "\n",
    "# STEP 2: Create the oracle and the problem\n",
    "oracle = PhaseOracle(oracle_expression)\n",
    "problem = AmplificationProblem(oracle)\n",
    "\n",
    "# STEP 3: Run Grover's Algorithm\n",
    "grover = Grover()\n",
    "backend = Aer.get_backend('qasm_simulator')\n",
    "result = grover.run(backend=backend, problem=problem)"
   ]
  },
  {
   "cell_type": "code",
   "execution_count": null,
   "metadata": {},
   "outputs": [],
   "source": [
    "# Display the result\n",
    "print(\"Top result (most likely state):\", result.top_measurement)\n",
    "\n",
    "# Plot the histogram\n",
    "plot_histogram(result.circuit_results)\n",
    "plt.title(\"Grover's Algorithm Output for DNA Pattern Match\")\n",
    "plt.show()"
   ]
  },
  {
   "cell_type": "markdown",
   "metadata": {},
   "source": [
    "## Reflection\n",
    "\n",
    "This project helped me understand the practical application of Grover’s Algorithm in the context of quantum encoding.  \n",
    "By using basis encoding and running a simulated quantum search, I observed how efficiently quantum algorithms can find patterns in unstructured data such as DNA.\n",
    "\n",
    "This supports the ideas in the article I reviewed, where the authors used hybrid encoding techniques and Grover’s algorithm to optimize pattern matching on quantum systems."
   ]
  }
 ],
 "metadata": {
  "kernelspec": {
   "display_name": "Python 3",
   "language": "python",
   "name": "python3"
  },
  "language_info": {
   "codemirror_mode": {
    "name": "ipython",
    "version": 3
   },
   "file_extension": ".py",
   "mimetype": "text/x-python",
   "name": "python",
   "nbconvert_exporter": "python",
   "pygments_lexer": "ipython3",
   "version": "3.9.6"
  }
 },
 "nbformat": 4,
 "nbformat_minor": 5
}
